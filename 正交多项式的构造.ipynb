{
 "cells": [
  {
   "cell_type": "code",
   "execution_count": 1,
   "id": "278c4ca4",
   "metadata": {},
   "outputs": [
    {
     "name": "stdout",
     "output_type": "stream",
     "text": [
      "输入数据组如{11:5,2:3}:{0:1,0.3:1.25,0.4:1.3,0.5:1.35,0.6:1.6,0.8:1.8,0.9:2.6,1:3}\n",
      "1\n",
      "x - 0.5625\n",
      "(x - 0.5625)*(x - 0.479073033707865) - 0.09734375\n",
      "-0.0990581997222573*x + (x - 0.425882104954451)*((x - 0.5625)*(x - 0.479073033707865) - 0.09734375) + 0.0557202373437697\n",
      "8\n",
      "3.33066907387547e-16\n",
      "-2.77555756156289e-17\n",
      "-1.38777878078145e-17\n",
      "此正交族构成的拟合函数为:3.34441616063917e-16*x - 2.77555756156289e-17*(x - 0.5625)*(x - 0.479073033707865) - 1.38777878078145e-17*(x - 0.425882104954451)*((x - 0.5625)*(x - 0.479073033707865) - 0.09734375) + 8.0\n"
     ]
    },
    {
     "data": {
      "text/plain": [
       "[1,\n",
       " x - 0.5625,\n",
       " (x - 0.5625)*(x - 0.479073033707865) - 0.09734375,\n",
       " -0.0990581997222573*x + (x - 0.425882104954451)*((x - 0.5625)*(x - 0.479073033707865) - 0.09734375) + 0.0557202373437697]"
      ]
     },
     "execution_count": 1,
     "metadata": {},
     "output_type": "execute_result"
    }
   ],
   "source": [
    "import numpy as np\n",
    "from sympy import *\n",
    "def constr_orth_family(m):\n",
    "    x = symbols('x')\n",
    "    data_dict = eval(input('输入数据组如{11:5,2:3}:'))\n",
    "    data_list = list(data_dict.keys())\n",
    "    poly_list = []\n",
    "    coeff_list = []\n",
    "    def value_as(func,data):\n",
    "        return (func if str(func).isdigit() else func.evalf(subs={x:data}))\n",
    "    def inn_pro(func_1,func_2):\n",
    "        inn_pro = 0\n",
    "        for data in data_list:\n",
    "            if type(func_1) == dict:\n",
    "                func_1 = func_1[data]\n",
    "            elif type(func_2) == dict:\n",
    "                func_2 = func_2[data]\n",
    "            inn_pro += value_as(func_1,data)*value_as(func_2,data)\n",
    "        return inn_pro\n",
    "    for i in range(m+1):\n",
    "        if i == 0:\n",
    "            poly = 1\n",
    "        elif i == 1:\n",
    "            poly_0 = poly_list[0]\n",
    "            alpha_0 = inn_pro(x*poly_0,poly_0)/inn_pro(poly_0,poly_0)\n",
    "            poly = x - alpha_0\n",
    "        else:\n",
    "            alpha_i_1 = inn_pro(x*poly_list[i-1],poly_list[i-1])/inn_pro(poly_list[i-1],poly_list[i-1])\n",
    "            beta_i_1 = inn_pro(poly_list[i-1],poly_list[i-1])/inn_pro(poly_list[i-2],poly_list[i-2])\n",
    "            poly = ((x-alpha_i_1)*poly_list[i-1]-beta_i_1*poly_list[i-2])\n",
    "        poly_list.append(poly)\n",
    "    for poly in poly_list:\n",
    "        coeff = inn_pro(poly,data_dict)\n",
    "        coeff_list.append(coeff)\n",
    "    fitting_curve = 0\n",
    "    for i in range(len(poly_list)):\n",
    "        fitting_curve += coeff_list[i]*poly_list[i]\n",
    "    for poly in poly_list:\n",
    "        print(poly)\n",
    "    for coeff in coeff_list:\n",
    "        print(coeff)\n",
    "    print('此正交族构成的拟合函数为:{}'.format(fitting_curve))\n",
    "    return poly_list\n",
    "    \n",
    "constr_orth_family(3)"
   ]
  },
  {
   "cell_type": "code",
   "execution_count": 26,
   "id": "57700f79",
   "metadata": {},
   "outputs": [
    {
     "name": "stdout",
     "output_type": "stream",
     "text": [
      "x\n"
     ]
    }
   ],
   "source": []
  }
 ],
 "metadata": {
  "kernelspec": {
   "display_name": "Python 3 (ipykernel)",
   "language": "python",
   "name": "python3"
  },
  "language_info": {
   "codemirror_mode": {
    "name": "ipython",
    "version": 3
   },
   "file_extension": ".py",
   "mimetype": "text/x-python",
   "name": "python",
   "nbconvert_exporter": "python",
   "pygments_lexer": "ipython3",
   "version": "3.10.9"
  }
 },
 "nbformat": 4,
 "nbformat_minor": 5
}
