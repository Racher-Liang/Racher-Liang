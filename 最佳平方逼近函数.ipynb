{
 "cells": [
  {
   "cell_type": "code",
   "execution_count": 18,
   "id": "b558b48a",
   "metadata": {},
   "outputs": [
    {
     "name": "stdout",
     "output_type": "stream",
     "text": [
      "Original function:x\n",
      "Polynomial function:1\n",
      "Next polynomia1 function:x\n",
      "Next polynomia1 function:\n",
      "Infimum:1\n",
      "Supremum:2\n",
      "[[1.         1.5       ]\n",
      " [1.5        2.33333333]][0. 1.]=[1.5        2.33333333]\n"
     ]
    },
    {
     "data": {
      "text/plain": [
       "array([0., 1.])"
      ]
     },
     "execution_count": 18,
     "metadata": {},
     "output_type": "execute_result"
    }
   ],
   "source": [
    "import numpy as np\n",
    "import pandas as pd\n",
    "from sympy import *\n",
    "from numpy.linalg import *\n",
    "def gram_matrix(ori_func,func_list,inf,sup):\n",
    "    x = symbols('x')\n",
    "    for i in range(len(func_list)):\n",
    "        row = []\n",
    "        for j in range(len(func_list)):\n",
    "            coeff = float(integrate(func_list[i]*func_list[j],(x,inf,sup)))\n",
    "            row.append(coeff)\n",
    "        if i == 0:\n",
    "            gram_matrix = np.array(row)\n",
    "        else:\n",
    "            gram_matrix = np.vstack((gram_matrix,row))\n",
    "    return(gram_matrix)\n",
    "def sol_matrix(ori_func,func_list,inf,sup):\n",
    "    x = symbols('x')\n",
    "    sol_matrix = []\n",
    "    for i in range(len(func_list)):\n",
    "        sol = float(integrate(func_list[i]*ori_func,(x,inf,sup)))\n",
    "        sol_matrix.append(sol)\n",
    "    sol_matrix = np.array(sol_matrix).transpose()\n",
    "    return sol_matrix\n",
    "def best_sqr_approx():\n",
    "    x = symbols('x')\n",
    "    ori_func = eval(input('Original function:'))\n",
    "    func_list = []\n",
    "    p_func = input('Polynomial function:')\n",
    "    while len(str(p_func))>0:\n",
    "        func_list.append(eval(p_func))\n",
    "        p_func = input('Next polynomia1 function:')\n",
    "    inf = eval(input('Infimum:'))\n",
    "    sup = eval(input('Supremum:'))\n",
    "    solution = solve(gram_matrix(ori_func,func_list,inf,sup),sol_matrix(ori_func,func_list,inf,sup))\n",
    "    print('{}{}={}'.format(gram_matrix(ori_func,func_list,inf,sup),solution,sol_matrix(ori_func,func_list,inf,sup)))\n",
    "    return solution\n",
    "best_sqr_approx()"
   ]
  },
  {
   "cell_type": "code",
   "execution_count": 13,
   "id": "e16c45e6",
   "metadata": {},
   "outputs": [
    {
     "data": {
      "text/latex": [
       "$\\displaystyle 0$"
      ],
      "text/plain": [
       "0"
      ]
     },
     "execution_count": 13,
     "metadata": {},
     "output_type": "execute_result"
    }
   ],
   "source": [
    "x = symbols('x')\n",
    "integrate(cos(x),(x,-pi,pi))"
   ]
  }
 ],
 "metadata": {
  "kernelspec": {
   "display_name": "Python 3 (ipykernel)",
   "language": "python",
   "name": "python3"
  },
  "language_info": {
   "codemirror_mode": {
    "name": "ipython",
    "version": 3
   },
   "file_extension": ".py",
   "mimetype": "text/x-python",
   "name": "python",
   "nbconvert_exporter": "python",
   "pygments_lexer": "ipython3",
   "version": "3.10.9"
  }
 },
 "nbformat": 4,
 "nbformat_minor": 5
}
