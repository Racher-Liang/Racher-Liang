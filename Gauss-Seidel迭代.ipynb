{
 "cells": [
  {
   "cell_type": "code",
   "execution_count": 1,
   "id": "e81675e7",
   "metadata": {},
   "outputs": [
    {
     "name": "stdout",
     "output_type": "stream",
     "text": [
      "[0.94397461 0.978506   0.22797745]\n",
      "迭代了6次\n"
     ]
    }
   ],
   "source": [
    "#Guass-Seidel 迭代\n",
    "import numpy as np\n",
    "from numpy.linalg import *\n",
    "from sympy import *\n",
    "ori_coeff_matrix = [[20,5,1],[1,8,1],[3,-3,18]]\n",
    "coeff_matrix = []\n",
    "ori_const_matrix = np.array([24,9,4])\n",
    "const_matrix = []\n",
    "for i in range(len(ori_coeff_matrix)):\n",
    "    div = ori_coeff_matrix[i][i]\n",
    "    new_coeff_list = []\n",
    "    for j in ori_coeff_matrix[i]:\n",
    "        j = j/div\n",
    "        new_coeff_list.append(j)\n",
    "    k = ori_const_matrix[i]/div\n",
    "    coeff_matrix.append(new_coeff_list)\n",
    "    const_matrix.append(k)\n",
    "coeff_matrix = np.array(coeff_matrix)\n",
    "const_matrix = np.array(const_matrix).transpose()\n",
    "\n",
    "DL_matr = np.zeros((3,3))\n",
    "U_matr = np.zeros((3,3))\n",
    "for i in range(len(coeff_matrix)):\n",
    "    for j in range(len(coeff_matrix)):\n",
    "        if i<j:\n",
    "            U_matr[i,j] = -coeff_matrix[i,j]\n",
    "        else:\n",
    "            DL_matr[i,j] = coeff_matrix[i,j]\n",
    "\n",
    "x_sol = np.array([0,0,0]).transpose()\n",
    "new_x_sol = np.dot((np.dot(inv(DL_matr),U_matr)),x_sol)+np.dot(inv(DL_matr),const_matrix)\n",
    "n = 0\n",
    "while max([abs(x_sol[i]-new_x_sol[i]) for i in range(len(x_sol))]) > 0.5*(10**(-5)):\n",
    "    n += 1\n",
    "    x_sol = new_x_sol\n",
    "    new_x_sol = np.dot((np.dot(inv(DL_matr),U_matr)),x_sol)+np.dot(inv(DL_matr),const_matrix)\n",
    "print(new_x_sol)\n",
    "print('迭代了{}次'.format(n))"
   ]
  }
 ],
 "metadata": {
  "kernelspec": {
   "display_name": "Python 3 (ipykernel)",
   "language": "python",
   "name": "python3"
  },
  "language_info": {
   "codemirror_mode": {
    "name": "ipython",
    "version": 3
   },
   "file_extension": ".py",
   "mimetype": "text/x-python",
   "name": "python",
   "nbconvert_exporter": "python",
   "pygments_lexer": "ipython3",
   "version": "3.10.9"
  }
 },
 "nbformat": 4,
 "nbformat_minor": 5
}
