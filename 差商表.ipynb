{
 "cells": [
  {
   "cell_type": "code",
   "execution_count": 6,
   "id": "6a469c79",
   "metadata": {},
   "outputs": [
    {
     "name": "stdout",
     "output_type": "stream",
     "text": [
      "-0.8660254037844386 0 0.8660254037844386\n"
     ]
    }
   ],
   "source": [
    "x1 = -(3**0.5)/2\n",
    "x2 = 0\n",
    "x3 = -x1\n",
    "print(x1,x2,x3)"
   ]
  },
  {
   "cell_type": "code",
   "execution_count": 16,
   "id": "a4c33243",
   "metadata": {},
   "outputs": [
    {
     "name": "stdout",
     "output_type": "stream",
     "text": [
      "输入数据，如{1:2,6:20}:{x1:np.e**x1,0:1,x3:np.e**x3}\n",
      "[[-0.8660254   0.42062003  0.66901037  0.5320418   0.        ]\n",
      " [ 0.          1.          1.5905338   0.          0.        ]\n",
      " [ 0.8660254   2.37744268  0.          0.          0.        ]]\n"
     ]
    }
   ],
   "source": [
    "import numpy as np\n",
    "from sympy import *\n",
    "datals = eval(input('输入数据，如{1:2,6:20}:'))\n",
    "x_ls = list(datals.keys())\n",
    "difquo = list(datals.values())\n",
    "x_dict = dict(enumerate(x_ls))\n",
    "dq_dict = dict(enumerate(difquo))\n",
    "chart = np.vstack((np.array(x_ls),np.array(difquo)))\n",
    "i = 0\n",
    "x = symbols('x')\n",
    "while i < len(datals):\n",
    "    i += 1\n",
    "    dq_ls = []\n",
    "    dq_dict[len(datals)] = 0\n",
    "    for j in range(len(datals)):\n",
    "        if dq_dict[j]*dq_dict[j+1] != 0:\n",
    "            dq_ls.append((dq_dict[j]-dq_dict[j+1])/(x_dict[j]-x_dict[j+i]))\n",
    "        else:\n",
    "            dq_ls.append(0)\n",
    "    dq_dict = dict(enumerate(dq_ls))\n",
    "    chart = np.vstack((chart,np.array(dq_ls)))\n",
    "chart = chart.swapaxes(0,1)\n",
    "print(chart)\n"
   ]
  },
  {
   "cell_type": "code",
   "execution_count": 15,
   "id": "155e9965",
   "metadata": {},
   "outputs": [
    {
     "name": "stdout",
     "output_type": "stream",
     "text": [
      "True\n"
     ]
    }
   ],
   "source": [
    "print(x*0.5 == 0.5*x)"
   ]
  }
 ],
 "metadata": {
  "kernelspec": {
   "display_name": "Python 3 (ipykernel)",
   "language": "python",
   "name": "python3"
  },
  "language_info": {
   "codemirror_mode": {
    "name": "ipython",
    "version": 3
   },
   "file_extension": ".py",
   "mimetype": "text/x-python",
   "name": "python",
   "nbconvert_exporter": "python",
   "pygments_lexer": "ipython3",
   "version": "3.10.9"
  }
 },
 "nbformat": 4,
 "nbformat_minor": 5
}
